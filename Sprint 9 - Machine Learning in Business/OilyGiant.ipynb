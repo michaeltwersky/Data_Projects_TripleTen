{
 "cells": [
  {
   "cell_type": "markdown",
   "metadata": {},
   "source": [
    "# Project description\n",
    "\n",
    "You work for the OilyGiant mining company. Your task is to find the best place for a new well.\n",
    "\n",
    "Steps to choose the location:\n",
    "\n",
    "- Collect the oil well parameters in the selected region: oil quality and volume of reserves;\n",
    "- Build a model for predicting the volume of reserves in the new wells;\n",
    "- Pick the oil wells with the highest estimated values;\n",
    "- Pick the region with the highest total profit for the selected oil wells.\n",
    "\n",
    "You have data on oil samples from three regions. Parameters of each oil well in the region are already known. Build a model that will help to pick the region with the highest profit margin. Analyze potential profit and risks using the _Bootstrapping_ technique."
   ]
  },
  {
   "cell_type": "code",
   "execution_count": 1,
   "metadata": {},
   "outputs": [],
   "source": [
    "# Import\n",
    "import pandas as pd\n",
    "import numpy as np\n",
    "import seaborn as sns\n",
    "import matplotlib.pyplot as plt\n",
    "import plotly.express as px"
   ]
  },
  {
   "cell_type": "markdown",
   "metadata": {},
   "source": [
    "### Reading in the dataset:"
   ]
  },
  {
   "cell_type": "code",
   "execution_count": 4,
   "metadata": {},
   "outputs": [
    {
     "name": "stdout",
     "output_type": "stream",
     "text": [
      "<class 'pandas.core.frame.DataFrame'>\n",
      "RangeIndex: 100000 entries, 0 to 99999\n",
      "Data columns (total 5 columns):\n",
      " #   Column   Non-Null Count   Dtype  \n",
      "---  ------   --------------   -----  \n",
      " 0   id       100000 non-null  object \n",
      " 1   f0       100000 non-null  float64\n",
      " 2   f1       100000 non-null  float64\n",
      " 3   f2       100000 non-null  float64\n",
      " 4   product  100000 non-null  float64\n",
      "dtypes: float64(4), object(1)\n",
      "memory usage: 3.8+ MB\n"
     ]
    }
   ],
   "source": [
    "data_0 = pd.read_csv('geo_data_0.csv')\n",
    "data_1 = pd.read_csv('geo_data_1.csv')\n",
    "data_2 = pd.read_csv('geo_data_2.csv')\n",
    "\n",
    "data_0.info()"
   ]
  },
  {
   "cell_type": "code",
   "execution_count": 6,
   "metadata": {},
   "outputs": [
    {
     "name": "stdout",
     "output_type": "stream",
     "text": [
      "<class 'pandas.core.frame.DataFrame'>\n",
      "RangeIndex: 100000 entries, 0 to 99999\n",
      "Data columns (total 5 columns):\n",
      " #   Column   Non-Null Count   Dtype  \n",
      "---  ------   --------------   -----  \n",
      " 0   id       100000 non-null  object \n",
      " 1   f0       100000 non-null  float64\n",
      " 2   f1       100000 non-null  float64\n",
      " 3   f2       100000 non-null  float64\n",
      " 4   product  100000 non-null  float64\n",
      "dtypes: float64(4), object(1)\n",
      "memory usage: 3.8+ MB\n"
     ]
    }
   ],
   "source": [
    "data_1.info()"
   ]
  },
  {
   "cell_type": "code",
   "execution_count": 8,
   "metadata": {
    "scrolled": true
   },
   "outputs": [
    {
     "name": "stdout",
     "output_type": "stream",
     "text": [
      "<class 'pandas.core.frame.DataFrame'>\n",
      "RangeIndex: 100000 entries, 0 to 99999\n",
      "Data columns (total 5 columns):\n",
      " #   Column   Non-Null Count   Dtype  \n",
      "---  ------   --------------   -----  \n",
      " 0   id       100000 non-null  object \n",
      " 1   f0       100000 non-null  float64\n",
      " 2   f1       100000 non-null  float64\n",
      " 3   f2       100000 non-null  float64\n",
      " 4   product  100000 non-null  float64\n",
      "dtypes: float64(4), object(1)\n",
      "memory usage: 3.8+ MB\n"
     ]
    }
   ],
   "source": [
    "data_2.info()"
   ]
  },
  {
   "cell_type": "markdown",
   "metadata": {},
   "source": [
    "**Removing Unnecessary Columns:**"
   ]
  },
  {
   "cell_type": "code",
   "execution_count": 11,
   "metadata": {},
   "outputs": [],
   "source": [
    "data_0.drop(\"id\", axis=1, inplace = True)\n",
    "data_1.drop(\"id\", axis=1, inplace = True)\n",
    "data_2.drop(\"id\", axis=1, inplace = True)"
   ]
  },
  {
   "cell_type": "code",
   "execution_count": 13,
   "metadata": {},
   "outputs": [
    {
     "name": "stdout",
     "output_type": "stream",
     "text": [
      "Region 0:\n"
     ]
    },
    {
     "data": {
      "text/html": [
       "<div>\n",
       "<style scoped>\n",
       "    .dataframe tbody tr th:only-of-type {\n",
       "        vertical-align: middle;\n",
       "    }\n",
       "\n",
       "    .dataframe tbody tr th {\n",
       "        vertical-align: top;\n",
       "    }\n",
       "\n",
       "    .dataframe thead th {\n",
       "        text-align: right;\n",
       "    }\n",
       "</style>\n",
       "<table border=\"1\" class=\"dataframe\">\n",
       "  <thead>\n",
       "    <tr style=\"text-align: right;\">\n",
       "      <th></th>\n",
       "      <th>f0</th>\n",
       "      <th>f1</th>\n",
       "      <th>f2</th>\n",
       "      <th>product</th>\n",
       "    </tr>\n",
       "  </thead>\n",
       "  <tbody>\n",
       "    <tr>\n",
       "      <th>0</th>\n",
       "      <td>0.705745</td>\n",
       "      <td>-0.497823</td>\n",
       "      <td>1.221170</td>\n",
       "      <td>105.280062</td>\n",
       "    </tr>\n",
       "    <tr>\n",
       "      <th>1</th>\n",
       "      <td>1.334711</td>\n",
       "      <td>-0.340164</td>\n",
       "      <td>4.365080</td>\n",
       "      <td>73.037750</td>\n",
       "    </tr>\n",
       "    <tr>\n",
       "      <th>2</th>\n",
       "      <td>1.022732</td>\n",
       "      <td>0.151990</td>\n",
       "      <td>1.419926</td>\n",
       "      <td>85.265647</td>\n",
       "    </tr>\n",
       "    <tr>\n",
       "      <th>3</th>\n",
       "      <td>-0.032172</td>\n",
       "      <td>0.139033</td>\n",
       "      <td>2.978566</td>\n",
       "      <td>168.620776</td>\n",
       "    </tr>\n",
       "    <tr>\n",
       "      <th>4</th>\n",
       "      <td>1.988431</td>\n",
       "      <td>0.155413</td>\n",
       "      <td>4.751769</td>\n",
       "      <td>154.036647</td>\n",
       "    </tr>\n",
       "  </tbody>\n",
       "</table>\n",
       "</div>"
      ],
      "text/plain": [
       "         f0        f1        f2     product\n",
       "0  0.705745 -0.497823  1.221170  105.280062\n",
       "1  1.334711 -0.340164  4.365080   73.037750\n",
       "2  1.022732  0.151990  1.419926   85.265647\n",
       "3 -0.032172  0.139033  2.978566  168.620776\n",
       "4  1.988431  0.155413  4.751769  154.036647"
      ]
     },
     "metadata": {},
     "output_type": "display_data"
    },
    {
     "name": "stdout",
     "output_type": "stream",
     "text": [
      "Region 1:\n"
     ]
    },
    {
     "data": {
      "text/html": [
       "<div>\n",
       "<style scoped>\n",
       "    .dataframe tbody tr th:only-of-type {\n",
       "        vertical-align: middle;\n",
       "    }\n",
       "\n",
       "    .dataframe tbody tr th {\n",
       "        vertical-align: top;\n",
       "    }\n",
       "\n",
       "    .dataframe thead th {\n",
       "        text-align: right;\n",
       "    }\n",
       "</style>\n",
       "<table border=\"1\" class=\"dataframe\">\n",
       "  <thead>\n",
       "    <tr style=\"text-align: right;\">\n",
       "      <th></th>\n",
       "      <th>f0</th>\n",
       "      <th>f1</th>\n",
       "      <th>f2</th>\n",
       "      <th>product</th>\n",
       "    </tr>\n",
       "  </thead>\n",
       "  <tbody>\n",
       "    <tr>\n",
       "      <th>0</th>\n",
       "      <td>-15.001348</td>\n",
       "      <td>-8.276000</td>\n",
       "      <td>-0.005876</td>\n",
       "      <td>3.179103</td>\n",
       "    </tr>\n",
       "    <tr>\n",
       "      <th>1</th>\n",
       "      <td>14.272088</td>\n",
       "      <td>-3.475083</td>\n",
       "      <td>0.999183</td>\n",
       "      <td>26.953261</td>\n",
       "    </tr>\n",
       "    <tr>\n",
       "      <th>2</th>\n",
       "      <td>6.263187</td>\n",
       "      <td>-5.948386</td>\n",
       "      <td>5.001160</td>\n",
       "      <td>134.766305</td>\n",
       "    </tr>\n",
       "    <tr>\n",
       "      <th>3</th>\n",
       "      <td>-13.081196</td>\n",
       "      <td>-11.506057</td>\n",
       "      <td>4.999415</td>\n",
       "      <td>137.945408</td>\n",
       "    </tr>\n",
       "    <tr>\n",
       "      <th>4</th>\n",
       "      <td>12.702195</td>\n",
       "      <td>-8.147433</td>\n",
       "      <td>5.004363</td>\n",
       "      <td>134.766305</td>\n",
       "    </tr>\n",
       "  </tbody>\n",
       "</table>\n",
       "</div>"
      ],
      "text/plain": [
       "          f0         f1        f2     product\n",
       "0 -15.001348  -8.276000 -0.005876    3.179103\n",
       "1  14.272088  -3.475083  0.999183   26.953261\n",
       "2   6.263187  -5.948386  5.001160  134.766305\n",
       "3 -13.081196 -11.506057  4.999415  137.945408\n",
       "4  12.702195  -8.147433  5.004363  134.766305"
      ]
     },
     "metadata": {},
     "output_type": "display_data"
    },
    {
     "name": "stdout",
     "output_type": "stream",
     "text": [
      "Region 2:\n"
     ]
    },
    {
     "data": {
      "text/html": [
       "<div>\n",
       "<style scoped>\n",
       "    .dataframe tbody tr th:only-of-type {\n",
       "        vertical-align: middle;\n",
       "    }\n",
       "\n",
       "    .dataframe tbody tr th {\n",
       "        vertical-align: top;\n",
       "    }\n",
       "\n",
       "    .dataframe thead th {\n",
       "        text-align: right;\n",
       "    }\n",
       "</style>\n",
       "<table border=\"1\" class=\"dataframe\">\n",
       "  <thead>\n",
       "    <tr style=\"text-align: right;\">\n",
       "      <th></th>\n",
       "      <th>f0</th>\n",
       "      <th>f1</th>\n",
       "      <th>f2</th>\n",
       "      <th>product</th>\n",
       "    </tr>\n",
       "  </thead>\n",
       "  <tbody>\n",
       "    <tr>\n",
       "      <th>0</th>\n",
       "      <td>-1.146987</td>\n",
       "      <td>0.963328</td>\n",
       "      <td>-0.828965</td>\n",
       "      <td>27.758673</td>\n",
       "    </tr>\n",
       "    <tr>\n",
       "      <th>1</th>\n",
       "      <td>0.262778</td>\n",
       "      <td>0.269839</td>\n",
       "      <td>-2.530187</td>\n",
       "      <td>56.069697</td>\n",
       "    </tr>\n",
       "    <tr>\n",
       "      <th>2</th>\n",
       "      <td>0.194587</td>\n",
       "      <td>0.289035</td>\n",
       "      <td>-5.586433</td>\n",
       "      <td>62.871910</td>\n",
       "    </tr>\n",
       "    <tr>\n",
       "      <th>3</th>\n",
       "      <td>2.236060</td>\n",
       "      <td>-0.553760</td>\n",
       "      <td>0.930038</td>\n",
       "      <td>114.572842</td>\n",
       "    </tr>\n",
       "    <tr>\n",
       "      <th>4</th>\n",
       "      <td>-0.515993</td>\n",
       "      <td>1.716266</td>\n",
       "      <td>5.899011</td>\n",
       "      <td>149.600746</td>\n",
       "    </tr>\n",
       "  </tbody>\n",
       "</table>\n",
       "</div>"
      ],
      "text/plain": [
       "         f0        f1        f2     product\n",
       "0 -1.146987  0.963328 -0.828965   27.758673\n",
       "1  0.262778  0.269839 -2.530187   56.069697\n",
       "2  0.194587  0.289035 -5.586433   62.871910\n",
       "3  2.236060 -0.553760  0.930038  114.572842\n",
       "4 -0.515993  1.716266  5.899011  149.600746"
      ]
     },
     "metadata": {},
     "output_type": "display_data"
    }
   ],
   "source": [
    "print('Region 0:')\n",
    "display(data_0.head())\n",
    "print('Region 1:')\n",
    "display(data_1.head())\n",
    "print('Region 2:')\n",
    "display(data_2.head())"
   ]
  },
  {
   "cell_type": "markdown",
   "metadata": {},
   "source": [
    "**Data description**\n",
    "\n",
    "Geological exploration data for the three regions are stored in files:\n",
    "- _id_ — unique oil well identifier\n",
    "- _f0, f1, f2_ — three features of points (their specific meaning is unimportant, but the features themselves are significant)\n",
    "- _product_ — volume of reserves in the oil well (thousand barrels)."
   ]
  },
  {
   "cell_type": "code",
   "execution_count": 16,
   "metadata": {},
   "outputs": [
    {
     "data": {
      "text/plain": [
       "0"
      ]
     },
     "metadata": {},
     "output_type": "display_data"
    },
    {
     "data": {
      "text/plain": [
       "0"
      ]
     },
     "metadata": {},
     "output_type": "display_data"
    },
    {
     "data": {
      "text/plain": [
       "0"
      ]
     },
     "metadata": {},
     "output_type": "display_data"
    }
   ],
   "source": [
    "# Checking for duplicates\n",
    "display(data_0.duplicated().sum())\n",
    "display(data_1.duplicated().sum())\n",
    "display(data_2.duplicated().sum())"
   ]
  },
  {
   "cell_type": "markdown",
   "metadata": {},
   "source": [
    "There are no duplicate or missing rows in either of the three datasets."
   ]
  },
  {
   "cell_type": "markdown",
   "metadata": {},
   "source": [
    "### Exploratory Data Analysis:"
   ]
  },
  {
   "cell_type": "markdown",
   "metadata": {},
   "source": [
    "**Univeriate EDA:**"
   ]
  },
  {
   "cell_type": "code",
   "execution_count": 8,
   "metadata": {},
   "outputs": [
    {
     "data": {
      "image/png": "[encoded data removed]",
      "text/plain": [
       "<Figure size 1080x360 with 4 Axes>"
      ]
     },
     "metadata": {
      "needs_background": "light"
     },
     "output_type": "display_data"
    }
   ],
   "source": [
    "data_0.hist(edgecolor='black', linewidth=1.2, figsize=(15,5));"
   ]
  },
  {
   "cell_type": "code",
   "execution_count": 9,
   "metadata": {},
   "outputs": [
    {
     "data": {
      "image/png": "[encoded data removed]",
      "text/plain": [
       "<Figure size 1080x360 with 4 Axes>"
      ]
     },
     "metadata": {
      "needs_background": "light"
     },
     "output_type": "display_data"
    }
   ],
   "source": [
    "data_1.hist(edgecolor='black', linewidth=1.2, figsize=(15,5));"
   ]
  },
  {
   "cell_type": "code",
   "execution_count": 10,
   "metadata": {},
   "outputs": [
    {
     "data": {
      "image/png": "[encoded data removed]",
      "text/plain": [
       "<Figure size 1080x360 with 4 Axes>"
      ]
     },
     "metadata": {
      "needs_background": "light"
     },
     "output_type": "display_data"
    }
   ],
   "source": [
    "data_2.hist(edgecolor='black', linewidth=1.2, figsize=(15,5));"
   ]
  },
  {
   "cell_type": "markdown",
   "metadata": {},
   "source": [
    "### Building a Linear Regression Model:"
   ]
  },
  {
   "cell_type": "markdown",
   "metadata": {},
   "source": [
    "**Splitting and Standardizing the Data:**"
   ]
  },
  {
   "cell_type": "code",
   "execution_count": 18,
   "metadata": {},
   "outputs": [
    {
     "name": "stdout",
     "output_type": "stream",
     "text": [
      "(75000, 3)\n",
      "(25000, 3)\n",
      "             f0        f1        f2\n",
      "27212 -0.544828  1.390264 -0.094959\n",
      "7866   1.455912 -0.480422  1.209567\n",
      "62041  0.260460  0.825069 -0.204865\n",
      "70185 -1.837105  0.010321 -0.147634\n",
      "82230 -1.299243  0.987558  1.273181\n"
     ]
    }
   ],
   "source": [
    "# import\n",
    "from sklearn.model_selection import train_test_split\n",
    "from sklearn.preprocessing import StandardScaler\n",
    "\n",
    "# Region 0\n",
    "\n",
    "train_0, valid_0 = train_test_split(data_0, test_size=0.25, random_state=12345, shuffle=True)\n",
    "\n",
    "# Training Data Split\n",
    "features_train_0 = train_0.drop(['product'], axis=1)\n",
    "target_train_0 = train_0['product']\n",
    "\n",
    "# Validation Data Split\n",
    "features_valid_0 = valid_0.drop(['product'], axis=1)\n",
    "target_valid_0 = valid_0['product']\n",
    "\n",
    "# Standardizing the Features\n",
    "numeric = ['f0', 'f1', 'f2']\n",
    "scaler = StandardScaler()\n",
    "scaler.fit(features_train_0[numeric])\n",
    "features_train_0[numeric] = scaler.transform(features_train_0[numeric])\n",
    "features_valid_0[numeric] = scaler.transform(features_valid_0[numeric])\n",
    "\n",
    "print(features_train_0.shape)\n",
    "\n",
    "print(features_valid_0.shape)\n",
    "\n",
    "print(features_train_0.head())"
   ]
  },
  {
   "cell_type": "code",
   "execution_count": 20,
   "metadata": {},
   "outputs": [
    {
     "name": "stdout",
     "output_type": "stream",
     "text": [
      "(75000, 3)\n",
      "(25000, 3)\n",
      "             f0        f1        f2\n",
      "27212 -0.850855  0.624428  0.296943\n",
      "7866   1.971935  1.832275  0.294333\n",
      "62041  1.079305  0.170127 -0.296418\n",
      "70185 -1.512028 -0.887837 -0.880471\n",
      "82230 -1.804775 -0.718311 -0.293255\n"
     ]
    }
   ],
   "source": [
    "# Region 1\n",
    "\n",
    "train_1, valid_1 = train_test_split(data_1, test_size=0.25, random_state=12345, shuffle=True)\n",
    "\n",
    "# Training Data Split\n",
    "features_train_1 = train_1.drop(['product'], axis=1)\n",
    "target_train_1 = train_1['product']\n",
    "\n",
    "# Validation Data Split\n",
    "features_valid_1 = valid_1.drop(['product'], axis=1)\n",
    "target_valid_1 = valid_1['product']\n",
    "\n",
    "# Standardizing the Features\n",
    "numeric = ['f0', 'f1', 'f2']\n",
    "scaler = StandardScaler()\n",
    "scaler.fit(features_train_1[numeric])\n",
    "features_train_1[numeric] = scaler.transform(features_train_1[numeric])\n",
    "features_valid_1[numeric] = scaler.transform(features_valid_1[numeric])\n",
    "\n",
    "print(features_train_1.shape)\n",
    "\n",
    "print(features_valid_1.shape)\n",
    "\n",
    "print(features_train_1.head())"
   ]
  },
  {
   "cell_type": "code",
   "execution_count": 22,
   "metadata": {},
   "outputs": [
    {
     "name": "stdout",
     "output_type": "stream",
     "text": [
      "(75000, 3)\n",
      "(25000, 3)\n",
      "             f0        f1        f2\n",
      "27212 -0.526160  0.776329 -0.400793\n",
      "7866  -0.889625 -0.404070 -1.222936\n",
      "62041 -1.133984  0.208576  0.296765\n",
      "70185  1.227045  1.570166 -0.764556\n",
      "82230 -0.194289  0.878312  0.840821\n"
     ]
    }
   ],
   "source": [
    "# Region 2\n",
    "\n",
    "train_2, valid_2 = train_test_split(data_2, test_size=0.25, random_state=12345, shuffle=True)\n",
    "\n",
    "# Training Data Split\n",
    "features_train_2 = train_2.drop(['product'], axis=1)\n",
    "target_train_2 = train_2['product']\n",
    "\n",
    "# Validation Data Split\n",
    "features_valid_2 = valid_2.drop(['product'], axis=1)\n",
    "target_valid_2 = valid_2['product']\n",
    "\n",
    "# Standardizing the Features\n",
    "numeric = ['f0', 'f1', 'f2']\n",
    "scaler = StandardScaler()\n",
    "scaler.fit(features_train_2[numeric])\n",
    "features_train_2[numeric] = scaler.transform(features_train_2[numeric])\n",
    "features_valid_2[numeric] = scaler.transform(features_valid_2[numeric])\n",
    "\n",
    "print(features_train_2.shape)\n",
    "\n",
    "print(features_valid_2.shape)\n",
    "\n",
    "print(features_train_2.head())"
   ]
  },
  {
   "cell_type": "markdown",
   "metadata": {},
   "source": [
    "**Training and Evaluating the Models:**        "
   ]
  },
  {
   "cell_type": "code",
   "execution_count": 24,
   "metadata": {
    "scrolled": true
   },
   "outputs": [
    {
     "name": "stdout",
     "output_type": "stream",
     "text": [
      "The Average Volume of Predicted Reserves in Region 0 is: 92.59256778438035\n",
      "The RMSE of the Model is: 37.5794217150813\n"
     ]
    }
   ],
   "source": [
    "# Import\n",
    "from sklearn.linear_model import LinearRegression\n",
    "from sklearn.metrics import mean_squared_error\n",
    "\n",
    "# Region 0\n",
    "\n",
    "lr_0 = LinearRegression() #Initializing the model\n",
    "lr_0.fit(features_train_0, target_train_0) #Fitting the model to the training data\n",
    "lr_0_predicted = lr_0.predict(features_valid_0) #Making predictions on the validation data\n",
    "\n",
    "mse_0 = mean_squared_error(target_valid_0, lr_0_predicted) #Calculating MSE of the Model\n",
    "pred_target_df_0 = pd.DataFrame({'y_pred': lr_0_predicted, 'target': target_valid_0})\n",
    "\n",
    "print('The Average Volume of Predicted Reserves in Region 0 is:', lr_0_predicted.mean())\n",
    "print('The RMSE of the Model is:', mse_0 ** 0.5 )\n"
   ]
  },
  {
   "cell_type": "code",
   "execution_count": 26,
   "metadata": {},
   "outputs": [
    {
     "name": "stdout",
     "output_type": "stream",
     "text": [
      "The Average Volume of Predicted Reserves in Region 1 is: 68.728546895446\n",
      "The RMSE of the Model is: 0.8930992867756167\n"
     ]
    }
   ],
   "source": [
    "# Region 1\n",
    "\n",
    "lr_1 = LinearRegression() #Initializing the model\n",
    "lr_1.fit(features_train_1, target_train_1) #Fitting the model to the training data\n",
    "lr_1_predicted = lr_1.predict(features_valid_1) #Making predictions on the validation data\n",
    "\n",
    "mse_1 = mean_squared_error(target_valid_1, lr_1_predicted) #Calculating MSE of the Model\n",
    "pred_target_df_1 = pd.DataFrame({'y_pred': lr_1_predicted, 'target': target_valid_1})\n",
    "\n",
    "print('The Average Volume of Predicted Reserves in Region 1 is:', lr_1_predicted.mean())\n",
    "print('The RMSE of the Model is:', mse_1 ** 0.5 )"
   ]
  },
  {
   "cell_type": "code",
   "execution_count": 28,
   "metadata": {},
   "outputs": [
    {
     "name": "stdout",
     "output_type": "stream",
     "text": [
      "The Average Volume of Predicted Reserves in Region 2 is: 68.69716081021053\n",
      "The RMSE of the Model is: 54.26459318751236\n"
     ]
    }
   ],
   "source": [
    "# Region 2\n",
    "\n",
    "lr_2 = LinearRegression() #Initializing the model\n",
    "lr_2.fit(features_train_2, target_train_2) #Fitting the model to the training data\n",
    "lr_2_predicted = lr_1.predict(features_valid_2) #Making predictions on the validation data\n",
    "\n",
    "mse_2 = mean_squared_error(target_valid_2, lr_2_predicted) #Calculating MSE of the Model\n",
    "pred_target_df_2 = pd.DataFrame({'y_pred': lr_2_predicted, 'target': target_valid_2})\n",
    "\n",
    "print('The Average Volume of Predicted Reserves in Region 2 is:', lr_2_predicted.mean())\n",
    "print('The RMSE of the Model is:', mse_2 ** 0.5 )"
   ]
  },
  {
   "cell_type": "markdown",
   "metadata": {},
   "source": [
    "Region 0 is projected by the model to have the highest amount of reserves while also having the lowest RMSE."
   ]
  },
  {
   "cell_type": "markdown",
   "metadata": {},
   "source": [
    "### Profit Calculation"
   ]
  },
  {
   "cell_type": "markdown",
   "metadata": {},
   "source": [
    "**Key Variables:**\n"
   ]
  },
  {
   "cell_type": "code",
   "execution_count": 30,
   "metadata": {},
   "outputs": [],
   "source": [
    "budget = 100000000\n",
    "unit_revenue = 4500\n",
    "wells = 200\n"
   ]
  },
  {
   "cell_type": "markdown",
   "metadata": {},
   "source": [
    "**Volume of reserves sufficient for developing a new well without losses:**"
   ]
  },
  {
   "cell_type": "code",
   "execution_count": 32,
   "metadata": {},
   "outputs": [
    {
     "name": "stdout",
     "output_type": "stream",
     "text": [
      "Volume of reserves sufficient for developing a new well without losses: 111\n"
     ]
    }
   ],
   "source": [
    "reserves = int((budget/wells) // unit_revenue)\n",
    "print('Volume of reserves sufficient for developing a new well without losses:', reserves)"
   ]
  },
  {
   "cell_type": "markdown",
   "metadata": {},
   "source": [
    "**Write a function to calculate profit:**"
   ]
  },
  {
   "cell_type": "code",
   "execution_count": 34,
   "metadata": {},
   "outputs": [
    {
     "data": {
      "text/plain": [
       "((25000,), numpy.ndarray)"
      ]
     },
     "execution_count": 34,
     "metadata": {},
     "output_type": "execute_result"
    }
   ],
   "source": [
    "lr_0_predicted.shape, type(lr_0_predicted)"
   ]
  },
  {
   "cell_type": "code",
   "execution_count": 36,
   "metadata": {},
   "outputs": [
    {
     "data": {
      "text/html": [
       "<div>\n",
       "<style scoped>\n",
       "    .dataframe tbody tr th:only-of-type {\n",
       "        vertical-align: middle;\n",
       "    }\n",
       "\n",
       "    .dataframe tbody tr th {\n",
       "        vertical-align: top;\n",
       "    }\n",
       "\n",
       "    .dataframe thead th {\n",
       "        text-align: right;\n",
       "    }\n",
       "</style>\n",
       "<table border=\"1\" class=\"dataframe\">\n",
       "  <thead>\n",
       "    <tr style=\"text-align: right;\">\n",
       "      <th></th>\n",
       "      <th>y_pred</th>\n",
       "      <th>target</th>\n",
       "    </tr>\n",
       "  </thead>\n",
       "  <tbody>\n",
       "    <tr>\n",
       "      <th>71751</th>\n",
       "      <td>95.894952</td>\n",
       "      <td>10.038645</td>\n",
       "    </tr>\n",
       "    <tr>\n",
       "      <th>80493</th>\n",
       "      <td>77.572583</td>\n",
       "      <td>114.551489</td>\n",
       "    </tr>\n",
       "    <tr>\n",
       "      <th>2655</th>\n",
       "      <td>77.892640</td>\n",
       "      <td>132.603635</td>\n",
       "    </tr>\n",
       "    <tr>\n",
       "      <th>53233</th>\n",
       "      <td>90.175134</td>\n",
       "      <td>169.072125</td>\n",
       "    </tr>\n",
       "    <tr>\n",
       "      <th>91141</th>\n",
       "      <td>70.510088</td>\n",
       "      <td>122.325180</td>\n",
       "    </tr>\n",
       "  </tbody>\n",
       "</table>\n",
       "</div>"
      ],
      "text/plain": [
       "          y_pred      target\n",
       "71751  95.894952   10.038645\n",
       "80493  77.572583  114.551489\n",
       "2655   77.892640  132.603635\n",
       "53233  90.175134  169.072125\n",
       "91141  70.510088  122.325180"
      ]
     },
     "execution_count": 36,
     "metadata": {},
     "output_type": "execute_result"
    }
   ],
   "source": [
    "pred_target_df_0.head()"
   ]
  },
  {
   "cell_type": "code",
   "execution_count": 38,
   "metadata": {
    "scrolled": true
   },
   "outputs": [
    {
     "name": "stdout",
     "output_type": "stream",
     "text": [
      "33208260.43139851\n",
      "24150866.966815114\n",
      "27372121.43286684\n"
     ]
    }
   ],
   "source": [
    "def profit(target, predicted):\n",
    "    predicted_sorted = predicted.sort_values(ascending=False)\n",
    "    selected_points = target[predicted_sorted.index][:200]\n",
    "    product = selected_points.sum()\n",
    "    revenue = product * unit_revenue\n",
    "    return revenue - budget\n",
    "\n",
    "profit_value_0 = profit(pred_target_df_0['target'],pred_target_df_0['y_pred'])\n",
    "profit_value_1 = profit(pred_target_df_1['target'],pred_target_df_1['y_pred'])\n",
    "profit_value_2 = profit(pred_target_df_2['target'],pred_target_df_2['y_pred'])\n",
    "\n",
    "print(profit_value_0)\n",
    "print(profit_value_1)\n",
    "print(profit_value_2)"
   ]
  },
  {
   "cell_type": "markdown",
   "metadata": {},
   "source": [
    "### Calculate the Risks and Profit for Each Region"
   ]
  },
  {
   "cell_type": "code",
   "execution_count": 40,
   "metadata": {},
   "outputs": [
    {
     "name": "stdout",
     "output_type": "stream",
     "text": [
      "Region 0\n",
      "Mean Profit: 4259385.269105923\n",
      "95% Confidence Interval: (-1020900.9483793724, 9479763.533583675)\n",
      "Risk of Negative Profit: 6.0 %\n"
     ]
    }
   ],
   "source": [
    "state = np.random.RandomState(12345)\n",
    "\n",
    "\n",
    "# Region 0\n",
    "values = []\n",
    "for i in range(1000):\n",
    "    target_subsample = target_valid_0.sample(n=500, replace=True, random_state=state)\n",
    "    features_subsample = pred_target_df_0['y_pred'][target_subsample.index]\n",
    "    \n",
    "    values.append(profit(target_subsample, features_subsample))\n",
    "\n",
    "values = pd.Series(values)\n",
    "profit_mean = values.mean()\n",
    "confidence_interval = (values.quantile(.025), values.quantile(.975))\n",
    "chance_of_negative_profit = (values < 0).mean()\n",
    "\n",
    "print('Region 0')\n",
    "print('Mean Profit:', profit_mean)\n",
    "print('95% Confidence Interval:', confidence_interval)\n",
    "print('Risk of Negative Profit:', chance_of_negative_profit * 100,'%')"
   ]
  },
  {
   "cell_type": "code",
   "execution_count": 42,
   "metadata": {},
   "outputs": [
    {
     "name": "stdout",
     "output_type": "stream",
     "text": [
      "Region 1\n",
      "Mean Profit: 5182594.93697325\n",
      "95% Confidence Interval: (1281232.3143308456, 9536129.820669085)\n",
      "Risk of Negative Profit: 0.3 %\n"
     ]
    }
   ],
   "source": [
    "# Region 1\n",
    "values = []\n",
    "for i in range(1000):\n",
    "    target_subsample = target_valid_1.sample(n=500, replace=True, random_state=state)\n",
    "    features_subsample = pred_target_df_1['y_pred'][target_subsample.index]\n",
    "    \n",
    "    values.append(profit(target_subsample, features_subsample))\n",
    "\n",
    "values = pd.Series(values)\n",
    "profit_mean = values.mean()\n",
    "confidence_interval = (values.quantile(.025), values.quantile(.975))\n",
    "chance_of_negative_profit = (values < 0).mean()\n",
    "\n",
    "print('Region 1')\n",
    "print('Mean Profit:', profit_mean)\n",
    "print('95% Confidence Interval:', confidence_interval)\n",
    "print('Risk of Negative Profit:', chance_of_negative_profit * 100,'%')"
   ]
  },
  {
   "cell_type": "code",
   "execution_count": 44,
   "metadata": {},
   "outputs": [
    {
     "name": "stdout",
     "output_type": "stream",
     "text": [
      "Region 2\n",
      "Mean Profit: 4211851.813227775\n",
      "95% Confidence Interval: (-989780.6794178116, 9957476.081631033)\n",
      "Risk of Negative Profit: 6.4 %\n"
     ]
    }
   ],
   "source": [
    "# Region 2\n",
    "values = []\n",
    "for i in range(1000):\n",
    "    target_subsample = target_valid_2.sample(n=500, replace=True, random_state=state)\n",
    "    features_subsample = pred_target_df_2['y_pred'][target_subsample.index]\n",
    "    \n",
    "    values.append(profit(target_subsample, features_subsample))\n",
    "\n",
    "values = pd.Series(values)\n",
    "profit_mean = values.mean()\n",
    "confidence_interval = (values.quantile(.025), values.quantile(.975))\n",
    "chance_of_negative_profit = (values < 0).mean()\n",
    "\n",
    "print('Region 2')\n",
    "print('Mean Profit:', profit_mean)\n",
    "print('95% Confidence Interval:', confidence_interval)\n",
    "print('Risk of Negative Profit:', chance_of_negative_profit * 100,'%')"
   ]
  },
  {
   "cell_type": "markdown",
   "metadata": {},
   "source": [
    "### Conclusion"
   ]
  },
  {
   "cell_type": "markdown",
   "metadata": {},
   "source": [
    "With the lowest risk of negative profit as well as the highest mean profit and best confidence interval, I would recommend OilyGiant to select region 1."
   ]
  },
  {
   "cell_type": "code",
   "execution_count": null,
   "metadata": {},
   "outputs": [],
   "source": []
  }
 ],
 "metadata": {
  "kernelspec": {
   "display_name": "Python 3 (ipykernel)",
   "language": "python",
   "name": "python3"
  },
  "language_info": {
   "codemirror_mode": {
    "name": "ipython",
    "version": 3
   },
   "file_extension": ".py",
   "mimetype": "text/x-python",
   "name": "python",
   "nbconvert_exporter": "python",
   "pygments_lexer": "ipython3",
   "version": "3.11.5"
  },
  "toc": {
   "base_numbering": 1,
   "nav_menu": {},
   "number_sections": true,
   "sideBar": true,
   "skip_h1_title": true,
   "title_cell": "Table of Contents",
   "title_sidebar": "Contents",
   "toc_cell": false,
   "toc_position": {},
   "toc_section_display": true,
   "toc_window_display": false
  }
 },
 "nbformat": 4,
 "nbformat_minor": 4
}
